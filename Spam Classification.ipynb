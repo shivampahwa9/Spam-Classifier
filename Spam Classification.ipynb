{
 "cells": [
  {
   "cell_type": "markdown",
   "metadata": {},
   "source": [
    "### Spam Classifier\n",
    "In this notebook I uses a different classifiers to classify messages as spam or not spam"
   ]
  },
  {
   "cell_type": "code",
   "execution_count": 1,
   "metadata": {},
   "outputs": [],
   "source": [
    "import numpy as np\n",
    "import pandas as pd\n",
    "from sklearn.feature_extraction.text import TfidfVectorizer\n",
    "from sklearn.model_selection import StratifiedShuffleSplit\n",
    "from sklearn.svm import SVC\n",
    "from sklearn.naive_bayes import GaussianNB\n",
    "from sklearn.model_selection import train_test_split\n",
    "from sklearn.metrics import accuracy_score,classification_report,confusion_matrix\n",
    "from sklearn.naive_bayes import MultinomialNB\n",
    "from sklearn.neighbors import KNeighborsClassifier\n",
    "from sklearn.tree import DecisionTreeClassifier\n",
    "from sklearn.ensemble import RandomForestClassifier,VotingClassifier\n",
    "from sklearn.linear_model import LinearRegression,LogisticRegression\n",
    "from sklearn.cluster import KMeans"
   ]
  },
  {
   "cell_type": "code",
   "execution_count": 2,
   "metadata": {},
   "outputs": [],
   "source": [
    "data = pd.read_csv(\"spam.csv\",encoding='latin-1')"
   ]
  },
  {
   "cell_type": "code",
   "execution_count": 3,
   "metadata": {},
   "outputs": [
    {
     "data": {
      "text/html": [
       "<div>\n",
       "<style scoped>\n",
       "    .dataframe tbody tr th:only-of-type {\n",
       "        vertical-align: middle;\n",
       "    }\n",
       "\n",
       "    .dataframe tbody tr th {\n",
       "        vertical-align: top;\n",
       "    }\n",
       "\n",
       "    .dataframe thead th {\n",
       "        text-align: right;\n",
       "    }\n",
       "</style>\n",
       "<table border=\"1\" class=\"dataframe\">\n",
       "  <thead>\n",
       "    <tr style=\"text-align: right;\">\n",
       "      <th></th>\n",
       "      <th>class</th>\n",
       "      <th>SMS</th>\n",
       "    </tr>\n",
       "  </thead>\n",
       "  <tbody>\n",
       "    <tr>\n",
       "      <th>0</th>\n",
       "      <td>ham</td>\n",
       "      <td>Go until jurong point, crazy.. Available only ...</td>\n",
       "    </tr>\n",
       "    <tr>\n",
       "      <th>1</th>\n",
       "      <td>ham</td>\n",
       "      <td>Ok lar... Joking wif u oni...</td>\n",
       "    </tr>\n",
       "    <tr>\n",
       "      <th>2</th>\n",
       "      <td>spam</td>\n",
       "      <td>Free entry in 2 a wkly comp to win FA Cup fina...</td>\n",
       "    </tr>\n",
       "    <tr>\n",
       "      <th>3</th>\n",
       "      <td>ham</td>\n",
       "      <td>U dun say so early hor... U c already then say...</td>\n",
       "    </tr>\n",
       "    <tr>\n",
       "      <th>4</th>\n",
       "      <td>ham</td>\n",
       "      <td>Nah I don't think he goes to usf, he lives aro...</td>\n",
       "    </tr>\n",
       "  </tbody>\n",
       "</table>\n",
       "</div>"
      ],
      "text/plain": [
       "  class                                                SMS\n",
       "0   ham  Go until jurong point, crazy.. Available only ...\n",
       "1   ham                      Ok lar... Joking wif u oni...\n",
       "2  spam  Free entry in 2 a wkly comp to win FA Cup fina...\n",
       "3   ham  U dun say so early hor... U c already then say...\n",
       "4   ham  Nah I don't think he goes to usf, he lives aro..."
      ]
     },
     "execution_count": 3,
     "metadata": {},
     "output_type": "execute_result"
    }
   ],
   "source": [
    "data.head()"
   ]
  },
  {
   "cell_type": "code",
   "execution_count": 4,
   "metadata": {},
   "outputs": [],
   "source": [
    "x = data['SMS']"
   ]
  },
  {
   "cell_type": "code",
   "execution_count": 5,
   "metadata": {},
   "outputs": [],
   "source": [
    "y = data['class']"
   ]
  },
  {
   "cell_type": "code",
   "execution_count": 6,
   "metadata": {},
   "outputs": [],
   "source": [
    "X = pd.DataFrame(x)"
   ]
  },
  {
   "cell_type": "code",
   "execution_count": 7,
   "metadata": {},
   "outputs": [],
   "source": [
    "y = pd.DataFrame(y)"
   ]
  },
  {
   "cell_type": "code",
   "execution_count": 8,
   "metadata": {},
   "outputs": [],
   "source": [
    "vectorize = TfidfVectorizer()"
   ]
  },
  {
   "cell_type": "code",
   "execution_count": 9,
   "metadata": {},
   "outputs": [],
   "source": [
    "response = vectorize.fit_transform(x.copy())"
   ]
  },
  {
   "cell_type": "code",
   "execution_count": 10,
   "metadata": {
    "scrolled": true
   },
   "outputs": [
    {
     "name": "stdout",
     "output_type": "stream",
     "text": [
      "  (0, 3550)\t0.1481298737377147\n",
      "  (0, 8030)\t0.22998520738984352\n",
      "  (0, 4350)\t0.3264252905795869\n",
      "  (0, 5920)\t0.2553151503985779\n",
      "  (0, 2327)\t0.25279391746019725\n",
      "  (0, 1303)\t0.24415547176756056\n",
      "  (0, 5537)\t0.15618023117358304\n",
      "  (0, 4087)\t0.10720385321563428\n",
      "  (0, 1751)\t0.2757654045621182\n",
      "  (0, 3634)\t0.1803175103691124\n",
      "  (0, 8489)\t0.22080132794235655\n",
      "  (0, 4476)\t0.2757654045621182\n",
      "  (0, 1749)\t0.3116082237740733\n",
      "  (0, 2048)\t0.2757654045621182\n",
      "  (0, 7645)\t0.15566431601878158\n",
      "  (0, 3594)\t0.15318864840197105\n",
      "  (0, 1069)\t0.3264252905795869\n",
      "  (0, 8267)\t0.18238655630689804\n",
      "  (1, 5504)\t0.27211951321382544\n",
      "  (1, 4512)\t0.4082988561907181\n",
      "  (1, 4318)\t0.5236458071582338\n",
      "  (1, 8392)\t0.4316010362639011\n",
      "  (1, 5533)\t0.5465881710238072\n",
      "  (2, 4087)\t0.07917128722158312\n",
      "  (2, 3358)\t0.11301399735581102\n",
      "  :\t:\n",
      "  (5570, 4218)\t0.12246610191126918\n",
      "  (5570, 8313)\t0.18723687600522523\n",
      "  (5570, 1084)\t0.11225268140936363\n",
      "  (5570, 4615)\t0.1596552981734164\n",
      "  (5570, 7039)\t0.18426763178390446\n",
      "  (5570, 3308)\t0.12172172618634511\n",
      "  (5570, 7627)\t0.10242646659763287\n",
      "  (5570, 1438)\t0.1429585509124154\n",
      "  (5570, 5334)\t0.21003730857873562\n",
      "  (5570, 2592)\t0.18458634504313887\n",
      "  (5570, 8065)\t0.2088086209859756\n",
      "  (5570, 1778)\t0.13664567516026058\n",
      "  (5570, 7049)\t0.205343868729306\n",
      "  (5570, 2892)\t0.2440099568063893\n",
      "  (5570, 3470)\t0.2752778321471702\n",
      "  (5570, 1786)\t0.28292057870729176\n",
      "  (5570, 3687)\t0.242516196245848\n",
      "  (5570, 4161)\t0.28292057870729176\n",
      "  (5570, 903)\t0.32476233976158125\n",
      "  (5570, 1546)\t0.340204888824892\n",
      "  (5571, 7756)\t0.14849350328973984\n",
      "  (5571, 5244)\t0.39009002726386227\n",
      "  (5571, 4225)\t0.5773238083586979\n",
      "  (5571, 7885)\t0.42752913176432156\n",
      "  (5571, 6505)\t0.5565029307246045\n"
     ]
    }
   ],
   "source": [
    "print(response)"
   ]
  },
  {
   "cell_type": "code",
   "execution_count": 11,
   "metadata": {},
   "outputs": [],
   "source": [
    "s = StratifiedShuffleSplit(n_splits=3, test_size=0.3, random_state=7)"
   ]
  },
  {
   "cell_type": "code",
   "execution_count": 12,
   "metadata": {
    "scrolled": true
   },
   "outputs": [],
   "source": [
    "s.get_n_splits(response,y)\n",
    "y = y.values.reshape(5572)"
   ]
  },
  {
   "cell_type": "code",
   "execution_count": 13,
   "metadata": {},
   "outputs": [
    {
     "name": "stdout",
     "output_type": "stream",
     "text": [
      "TRAIN: [ 127 3513 1862 ... 3899 5436 1588] TEST: [  48 3800 2122 ... 1768 2445 4229]\n",
      "TRAIN: [4408 4690 2151 ...  888 3872 3489] TEST: [ 420 3985 4404 ... 2771   39 3145]\n",
      "TRAIN: [3558 4085 1547 ... 3728 3605 1650] TEST: [ 592  804 3755 ... 2947 4215 1584]\n"
     ]
    }
   ],
   "source": [
    "for train_index, test_index in s.split(response, y):\n",
    "    print(\"TRAIN:\", train_index, \"TEST:\", test_index)\n",
    "    x_train, x_test = response[train_index], response[test_index]\n",
    "    y_train, y_test = y[train_index], y[test_index]"
   ]
  },
  {
   "cell_type": "markdown",
   "metadata": {},
   "source": [
    "### SVC"
   ]
  },
  {
   "cell_type": "code",
   "execution_count": 14,
   "metadata": {},
   "outputs": [],
   "source": [
    "model = SVC(gamma=1)"
   ]
  },
  {
   "cell_type": "code",
   "execution_count": 15,
   "metadata": {},
   "outputs": [
    {
     "data": {
      "text/plain": [
       "SVC(C=1.0, cache_size=200, class_weight=None, coef0=0.0,\n",
       "  decision_function_shape='ovr', degree=3, gamma=1, kernel='rbf',\n",
       "  max_iter=-1, probability=False, random_state=None, shrinking=True,\n",
       "  tol=0.001, verbose=False)"
      ]
     },
     "execution_count": 15,
     "metadata": {},
     "output_type": "execute_result"
    }
   ],
   "source": [
    "model.fit(x_train,y_train)"
   ]
  },
  {
   "cell_type": "code",
   "execution_count": 16,
   "metadata": {},
   "outputs": [],
   "source": [
    "pred = model.predict(x_test)"
   ]
  },
  {
   "cell_type": "code",
   "execution_count": 17,
   "metadata": {},
   "outputs": [],
   "source": [
    "A=accuracy_score(pred,y_test)*100"
   ]
  },
  {
   "cell_type": "code",
   "execution_count": 18,
   "metadata": {},
   "outputs": [
    {
     "name": "stdout",
     "output_type": "stream",
     "text": [
      "Accuracy Score:\n",
      "98.14593301435407\n",
      "Classification Report:\n",
      "\n",
      "             precision    recall  f1-score   support\n",
      "\n",
      "        ham       0.98      1.00      0.99      1448\n",
      "       spam       0.99      0.87      0.93       224\n",
      "\n",
      "avg / total       0.98      0.98      0.98      1672\n",
      "\n",
      "Confusion Matrix:\n",
      "\n",
      "[[1446    2]\n",
      " [  29  195]]\n"
     ]
    }
   ],
   "source": [
    "print(\"Accuracy Score:\")\n",
    "print(A)\n",
    "print(\"Classification Report:\\n\")\n",
    "print(classification_report(y_test,pred))\n",
    "print(\"Confusion Matrix:\\n\")\n",
    "print(confusion_matrix(y_test,pred))"
   ]
  },
  {
   "cell_type": "markdown",
   "metadata": {},
   "source": [
    "### GussianNB"
   ]
  },
  {
   "cell_type": "code",
   "execution_count": 19,
   "metadata": {},
   "outputs": [],
   "source": [
    "model2 = GaussianNB()"
   ]
  },
  {
   "cell_type": "code",
   "execution_count": 20,
   "metadata": {},
   "outputs": [
    {
     "data": {
      "text/plain": [
       "GaussianNB(priors=None)"
      ]
     },
     "execution_count": 20,
     "metadata": {},
     "output_type": "execute_result"
    }
   ],
   "source": [
    "model2.fit(x_train.todense(),y_train)"
   ]
  },
  {
   "cell_type": "code",
   "execution_count": 21,
   "metadata": {},
   "outputs": [],
   "source": [
    "pred2 = model2.predict(x_test.todense())"
   ]
  },
  {
   "cell_type": "code",
   "execution_count": 22,
   "metadata": {},
   "outputs": [],
   "source": [
    "B = accuracy_score(pred2,y_test)*100"
   ]
  },
  {
   "cell_type": "code",
   "execution_count": 23,
   "metadata": {},
   "outputs": [
    {
     "name": "stdout",
     "output_type": "stream",
     "text": [
      "Accuracy Score:\n",
      "89.29425837320574\n",
      "Classification Report:\n",
      "\n",
      "             precision    recall  f1-score   support\n",
      "\n",
      "        ham       0.98      0.89      0.94      1448\n",
      "       spam       0.56      0.90      0.69       224\n",
      "\n",
      "avg / total       0.93      0.89      0.90      1672\n",
      "\n",
      "Confusion Matrix:\n",
      "\n",
      "[[1292  156]\n",
      " [  23  201]]\n"
     ]
    }
   ],
   "source": [
    "print(\"Accuracy Score:\")\n",
    "print(B)\n",
    "print(\"Classification Report:\\n\")\n",
    "print(classification_report(y_test,pred2))\n",
    "print(\"Confusion Matrix:\\n\")\n",
    "print(confusion_matrix(y_test,pred2))"
   ]
  },
  {
   "cell_type": "markdown",
   "metadata": {},
   "source": [
    "### MultinomialNB"
   ]
  },
  {
   "cell_type": "code",
   "execution_count": 24,
   "metadata": {},
   "outputs": [],
   "source": [
    "model3 = MultinomialNB(alpha=0.1)"
   ]
  },
  {
   "cell_type": "code",
   "execution_count": 25,
   "metadata": {},
   "outputs": [
    {
     "data": {
      "text/plain": [
       "MultinomialNB(alpha=0.1, class_prior=None, fit_prior=True)"
      ]
     },
     "execution_count": 25,
     "metadata": {},
     "output_type": "execute_result"
    }
   ],
   "source": [
    "model3.fit(x_train.todense(),y_train)"
   ]
  },
  {
   "cell_type": "code",
   "execution_count": 26,
   "metadata": {},
   "outputs": [],
   "source": [
    "pred3 = model3.predict(x_test.todense())"
   ]
  },
  {
   "cell_type": "code",
   "execution_count": 27,
   "metadata": {},
   "outputs": [],
   "source": [
    "C = accuracy_score(pred3,y_test)*100"
   ]
  },
  {
   "cell_type": "code",
   "execution_count": 28,
   "metadata": {},
   "outputs": [
    {
     "name": "stdout",
     "output_type": "stream",
     "text": [
      "Accuracy Score:\n",
      "98.6244019138756\n",
      "Classification Report:\n",
      "\n",
      "             precision    recall  f1-score   support\n",
      "\n",
      "        ham       0.99      0.99      0.99      1448\n",
      "       spam       0.95      0.94      0.95       224\n",
      "\n",
      "avg / total       0.99      0.99      0.99      1672\n",
      "\n",
      "Confusion Matrix:\n",
      "\n",
      "[[1438   10]\n",
      " [  13  211]]\n"
     ]
    }
   ],
   "source": [
    "print(\"Accuracy Score:\")\n",
    "print(C)\n",
    "print(\"Classification Report:\\n\")\n",
    "print(classification_report(y_test,pred3))\n",
    "print(\"Confusion Matrix:\\n\")\n",
    "print(confusion_matrix(y_test,pred3))"
   ]
  },
  {
   "cell_type": "markdown",
   "metadata": {},
   "source": [
    "### KNN"
   ]
  },
  {
   "cell_type": "code",
   "execution_count": 29,
   "metadata": {},
   "outputs": [],
   "source": [
    "model4 = KNeighborsClassifier(algorithm='brute',n_neighbors=35)"
   ]
  },
  {
   "cell_type": "code",
   "execution_count": 30,
   "metadata": {},
   "outputs": [
    {
     "data": {
      "text/plain": [
       "KNeighborsClassifier(algorithm='brute', leaf_size=30, metric='minkowski',\n",
       "           metric_params=None, n_jobs=1, n_neighbors=35, p=2,\n",
       "           weights='uniform')"
      ]
     },
     "execution_count": 30,
     "metadata": {},
     "output_type": "execute_result"
    }
   ],
   "source": [
    "model4.fit(x_train.todense(),y_train)"
   ]
  },
  {
   "cell_type": "code",
   "execution_count": 31,
   "metadata": {},
   "outputs": [],
   "source": [
    "pred4 = model4.predict(x_test)"
   ]
  },
  {
   "cell_type": "code",
   "execution_count": 32,
   "metadata": {},
   "outputs": [],
   "source": [
    "D = accuracy_score(pred4,y_test)*100"
   ]
  },
  {
   "cell_type": "code",
   "execution_count": 33,
   "metadata": {},
   "outputs": [
    {
     "name": "stdout",
     "output_type": "stream",
     "text": [
      "Accuracy Score:\n",
      "95.75358851674642\n",
      "Classification Report:\n",
      "\n",
      "             precision    recall  f1-score   support\n",
      "\n",
      "        ham       0.95      1.00      0.98      1448\n",
      "       spam       0.99      0.69      0.81       224\n",
      "\n",
      "avg / total       0.96      0.96      0.95      1672\n",
      "\n",
      "Confusion Matrix:\n",
      "\n",
      "[[1446    2]\n",
      " [  69  155]]\n"
     ]
    }
   ],
   "source": [
    "print(\"Accuracy Score:\")\n",
    "print(D)\n",
    "print(\"Classification Report:\\n\")\n",
    "print(classification_report(y_test,pred4))\n",
    "print(\"Confusion Matrix:\\n\")\n",
    "print(confusion_matrix(y_test,pred4))"
   ]
  },
  {
   "cell_type": "markdown",
   "metadata": {},
   "source": [
    "### Decision Tree"
   ]
  },
  {
   "cell_type": "code",
   "execution_count": 34,
   "metadata": {},
   "outputs": [],
   "source": [
    "model5 = DecisionTreeClassifier()"
   ]
  },
  {
   "cell_type": "code",
   "execution_count": 35,
   "metadata": {},
   "outputs": [
    {
     "data": {
      "text/plain": [
       "DecisionTreeClassifier(class_weight=None, criterion='gini', max_depth=None,\n",
       "            max_features=None, max_leaf_nodes=None,\n",
       "            min_impurity_decrease=0.0, min_impurity_split=None,\n",
       "            min_samples_leaf=1, min_samples_split=2,\n",
       "            min_weight_fraction_leaf=0.0, presort=False, random_state=None,\n",
       "            splitter='best')"
      ]
     },
     "execution_count": 35,
     "metadata": {},
     "output_type": "execute_result"
    }
   ],
   "source": [
    "model5.fit(x_train,y_train)"
   ]
  },
  {
   "cell_type": "code",
   "execution_count": 36,
   "metadata": {},
   "outputs": [],
   "source": [
    "pred5 = model5.predict(x_test)"
   ]
  },
  {
   "cell_type": "code",
   "execution_count": 37,
   "metadata": {},
   "outputs": [],
   "source": [
    "E = accuracy_score(y_test,pred5)*100"
   ]
  },
  {
   "cell_type": "code",
   "execution_count": 38,
   "metadata": {},
   "outputs": [
    {
     "name": "stdout",
     "output_type": "stream",
     "text": [
      "Accuracy Score:\n",
      "97.30861244019138\n",
      "Classification Report:\n",
      "\n",
      "             precision    recall  f1-score   support\n",
      "\n",
      "        ham       0.99      0.98      0.98      1448\n",
      "       spam       0.89      0.91      0.90       224\n",
      "\n",
      "avg / total       0.97      0.97      0.97      1672\n",
      "\n",
      "Confusion Matrix:\n",
      "\n",
      "[[1424   24]\n",
      " [  21  203]]\n"
     ]
    }
   ],
   "source": [
    "print(\"Accuracy Score:\")\n",
    "print(E)\n",
    "print(\"Classification Report:\\n\")\n",
    "print(classification_report(y_test,pred5))\n",
    "print(\"Confusion Matrix:\\n\")\n",
    "print(confusion_matrix(y_test,pred5))"
   ]
  },
  {
   "cell_type": "markdown",
   "metadata": {},
   "source": [
    "### Random forest"
   ]
  },
  {
   "cell_type": "code",
   "execution_count": 39,
   "metadata": {},
   "outputs": [],
   "source": [
    "model6 =RandomForestClassifier()"
   ]
  },
  {
   "cell_type": "code",
   "execution_count": 40,
   "metadata": {},
   "outputs": [
    {
     "data": {
      "text/plain": [
       "RandomForestClassifier(bootstrap=True, class_weight=None, criterion='gini',\n",
       "            max_depth=None, max_features='auto', max_leaf_nodes=None,\n",
       "            min_impurity_decrease=0.0, min_impurity_split=None,\n",
       "            min_samples_leaf=1, min_samples_split=2,\n",
       "            min_weight_fraction_leaf=0.0, n_estimators=10, n_jobs=1,\n",
       "            oob_score=False, random_state=None, verbose=0,\n",
       "            warm_start=False)"
      ]
     },
     "execution_count": 40,
     "metadata": {},
     "output_type": "execute_result"
    }
   ],
   "source": [
    "model6.fit(x_train,y_train)"
   ]
  },
  {
   "cell_type": "code",
   "execution_count": 41,
   "metadata": {},
   "outputs": [],
   "source": [
    "pred6 = model6.predict(x_test)"
   ]
  },
  {
   "cell_type": "code",
   "execution_count": 42,
   "metadata": {},
   "outputs": [],
   "source": [
    "F = accuracy_score(y_test,pred6)*100"
   ]
  },
  {
   "cell_type": "code",
   "execution_count": 43,
   "metadata": {},
   "outputs": [
    {
     "name": "stdout",
     "output_type": "stream",
     "text": [
      "Accuracy Score:\n",
      "97.188995215311\n",
      "Classification Report:\n",
      "\n",
      "             precision    recall  f1-score   support\n",
      "\n",
      "        ham       0.97      1.00      0.98      1448\n",
      "       spam       0.99      0.79      0.88       224\n",
      "\n",
      "avg / total       0.97      0.97      0.97      1672\n",
      "\n",
      "Confusion Matrix:\n",
      "\n",
      "[[1447    1]\n",
      " [  46  178]]\n"
     ]
    }
   ],
   "source": [
    "\n",
    "print(\"Accuracy Score:\")\n",
    "print(F)\n",
    "print(\"Classification Report:\\n\")\n",
    "print(classification_report(y_test,pred6))\n",
    "print(\"Confusion Matrix:\\n\")\n",
    "print(confusion_matrix(y_test,pred6))\n"
   ]
  },
  {
   "cell_type": "markdown",
   "metadata": {},
   "source": [
    "### Logistic Regression"
   ]
  },
  {
   "cell_type": "code",
   "execution_count": 44,
   "metadata": {},
   "outputs": [],
   "source": [
    "model7 = LogisticRegression()"
   ]
  },
  {
   "cell_type": "code",
   "execution_count": 45,
   "metadata": {},
   "outputs": [
    {
     "data": {
      "text/plain": [
       "LogisticRegression(C=1.0, class_weight=None, dual=False, fit_intercept=True,\n",
       "          intercept_scaling=1, max_iter=100, multi_class='ovr', n_jobs=1,\n",
       "          penalty='l2', random_state=None, solver='liblinear', tol=0.0001,\n",
       "          verbose=0, warm_start=False)"
      ]
     },
     "execution_count": 45,
     "metadata": {},
     "output_type": "execute_result"
    }
   ],
   "source": [
    "model7.fit(x_train,y_train)"
   ]
  },
  {
   "cell_type": "code",
   "execution_count": 46,
   "metadata": {},
   "outputs": [],
   "source": [
    "pred7 = model7.predict(x_test)"
   ]
  },
  {
   "cell_type": "code",
   "execution_count": 47,
   "metadata": {},
   "outputs": [],
   "source": [
    "G = accuracy_score(y_test,pred6)*100"
   ]
  },
  {
   "cell_type": "code",
   "execution_count": 48,
   "metadata": {},
   "outputs": [
    {
     "name": "stdout",
     "output_type": "stream",
     "text": [
      "Accuracy Score:\n",
      "97.188995215311\n",
      "Classification Report:\n",
      "\n",
      "             precision    recall  f1-score   support\n",
      "\n",
      "        ham       0.97      1.00      0.98      1448\n",
      "       spam       0.99      0.79      0.88       224\n",
      "\n",
      "avg / total       0.97      0.97      0.97      1672\n",
      "\n",
      "Confusion Matrix:\n",
      "\n",
      "[[1447    1]\n",
      " [  46  178]]\n"
     ]
    }
   ],
   "source": [
    "print(\"Accuracy Score:\")\n",
    "print(G)\n",
    "print(\"Classification Report:\\n\")\n",
    "print(classification_report(y_test,pred6))\n",
    "print(\"Confusion Matrix:\\n\")\n",
    "print(confusion_matrix(y_test,pred6))"
   ]
  },
  {
   "cell_type": "markdown",
   "metadata": {},
   "source": [
    "### Voting Classifier"
   ]
  },
  {
   "cell_type": "code",
   "execution_count": 49,
   "metadata": {},
   "outputs": [],
   "source": [
    "estimater = []\n",
    "LR = LogisticRegression()\n",
    "estimater.append((\"Logistic\",LR))\n",
    "KM = KMeans()\n",
    "estimater.append((\"KMeans\",KM))\n",
    "SV = SVC(kernel=\"rbf\")\n",
    "estimater.append((\"SVC\",SV))\n",
    "GN = GaussianNB()\n",
    "estimater.append((\"Gaussian\",GN))\n",
    "KN =  KNeighborsClassifier()\n",
    "estimater.append((\"KNN\",KN))"
   ]
  },
  {
   "cell_type": "code",
   "execution_count": 50,
   "metadata": {},
   "outputs": [],
   "source": [
    "Voting = VotingClassifier(estimater)"
   ]
  },
  {
   "cell_type": "code",
   "execution_count": 58,
   "metadata": {},
   "outputs": [
    {
     "data": {
      "text/plain": [
       "VotingClassifier(estimators=[('Logistic', LogisticRegression(C=1.0, class_weight=None, dual=False, fit_intercept=True,\n",
       "          intercept_scaling=1, max_iter=100, multi_class='ovr', n_jobs=1,\n",
       "          penalty='l2', random_state=None, solver='liblinear', tol=0.0001,\n",
       "          verbose=0, warm_start=False)), ('KMeans...owski',\n",
       "           metric_params=None, n_jobs=1, n_neighbors=5, p=2,\n",
       "           weights='uniform'))],\n",
       "         flatten_transform=None, n_jobs=1, voting='hard', weights=None)"
      ]
     },
     "execution_count": 58,
     "metadata": {},
     "output_type": "execute_result"
    }
   ],
   "source": [
    "Voting.fit(x_train.todense(),y_train)"
   ]
  },
  {
   "cell_type": "code",
   "execution_count": 52,
   "metadata": {},
   "outputs": [
    {
     "name": "stderr",
     "output_type": "stream",
     "text": [
      "C:\\Users\\Shivam\\Anaconda3\\lib\\site-packages\\sklearn\\preprocessing\\label.py:151: DeprecationWarning: The truth value of an empty array is ambiguous. Returning False, but in future this will result in an error. Use `array.size > 0` to check that an array is not empty.\n",
      "  if diff:\n"
     ]
    }
   ],
   "source": [
    "pre_Voting = Voting.predict(x_test.todense())"
   ]
  },
  {
   "cell_type": "code",
   "execution_count": 53,
   "metadata": {},
   "outputs": [],
   "source": [
    "H = accuracy_score(y_test,pre_Voting)*100"
   ]
  },
  {
   "cell_type": "code",
   "execution_count": 54,
   "metadata": {},
   "outputs": [
    {
     "name": "stdout",
     "output_type": "stream",
     "text": [
      "Accuracy Score:\n",
      "90.84928229665071\n",
      "Classification Report:\n",
      "\n",
      "             precision    recall  f1-score   support\n",
      "\n",
      "        ham       0.90      1.00      0.95      1448\n",
      "       spam       1.00      0.32      0.48       224\n",
      "\n",
      "avg / total       0.92      0.91      0.89      1672\n",
      "\n",
      "Confusion Matrix:\n",
      "\n",
      "[[1448    0]\n",
      " [ 153   71]]\n"
     ]
    }
   ],
   "source": [
    "print(\"Accuracy Score:\")\n",
    "print(H)\n",
    "print(\"Classification Report:\\n\")\n",
    "print(classification_report(y_test,pre_Voting))\n",
    "print(\"Confusion Matrix:\\n\")\n",
    "print(confusion_matrix(y_test,pre_Voting))"
   ]
  },
  {
   "cell_type": "markdown",
   "metadata": {},
   "source": [
    "### Comparision"
   ]
  },
  {
   "cell_type": "code",
   "execution_count": 55,
   "metadata": {},
   "outputs": [],
   "source": [
    "Models= ['SVC','GussianNB','MultinomialNB','KNN','Decision Tree','Random forest','Logistic Regression','Voting Classifier']\n",
    "res =[A,B,C,D,E,F,G,H]"
   ]
  },
  {
   "cell_type": "code",
   "execution_count": 56,
   "metadata": {},
   "outputs": [],
   "source": [
    "results = pd.DataFrame({\"Model\":Models,\"Accuracy\":res},index=[1,2,3,4,5,6,7,8])"
   ]
  },
  {
   "cell_type": "code",
   "execution_count": 57,
   "metadata": {},
   "outputs": [
    {
     "data": {
      "text/html": [
       "<div>\n",
       "<style scoped>\n",
       "    .dataframe tbody tr th:only-of-type {\n",
       "        vertical-align: middle;\n",
       "    }\n",
       "\n",
       "    .dataframe tbody tr th {\n",
       "        vertical-align: top;\n",
       "    }\n",
       "\n",
       "    .dataframe thead th {\n",
       "        text-align: right;\n",
       "    }\n",
       "</style>\n",
       "<table border=\"1\" class=\"dataframe\">\n",
       "  <thead>\n",
       "    <tr style=\"text-align: right;\">\n",
       "      <th></th>\n",
       "      <th>Accuracy</th>\n",
       "      <th>Model</th>\n",
       "    </tr>\n",
       "  </thead>\n",
       "  <tbody>\n",
       "    <tr>\n",
       "      <th>1</th>\n",
       "      <td>98.145933</td>\n",
       "      <td>SVC</td>\n",
       "    </tr>\n",
       "    <tr>\n",
       "      <th>2</th>\n",
       "      <td>89.294258</td>\n",
       "      <td>GussianNB</td>\n",
       "    </tr>\n",
       "    <tr>\n",
       "      <th>3</th>\n",
       "      <td>98.624402</td>\n",
       "      <td>MultinomialNB</td>\n",
       "    </tr>\n",
       "    <tr>\n",
       "      <th>4</th>\n",
       "      <td>95.753589</td>\n",
       "      <td>KNN</td>\n",
       "    </tr>\n",
       "    <tr>\n",
       "      <th>5</th>\n",
       "      <td>97.308612</td>\n",
       "      <td>Decision Tree</td>\n",
       "    </tr>\n",
       "    <tr>\n",
       "      <th>6</th>\n",
       "      <td>97.188995</td>\n",
       "      <td>Random forest</td>\n",
       "    </tr>\n",
       "    <tr>\n",
       "      <th>7</th>\n",
       "      <td>97.188995</td>\n",
       "      <td>Logistic Regression</td>\n",
       "    </tr>\n",
       "    <tr>\n",
       "      <th>8</th>\n",
       "      <td>90.849282</td>\n",
       "      <td>Voting Classifier</td>\n",
       "    </tr>\n",
       "  </tbody>\n",
       "</table>\n",
       "</div>"
      ],
      "text/plain": [
       "    Accuracy                Model\n",
       "1  98.145933                  SVC\n",
       "2  89.294258            GussianNB\n",
       "3  98.624402        MultinomialNB\n",
       "4  95.753589                  KNN\n",
       "5  97.308612        Decision Tree\n",
       "6  97.188995        Random forest\n",
       "7  97.188995  Logistic Regression\n",
       "8  90.849282    Voting Classifier"
      ]
     },
     "execution_count": 57,
     "metadata": {},
     "output_type": "execute_result"
    }
   ],
   "source": [
    "results"
   ]
  },
  {
   "cell_type": "markdown",
   "metadata": {},
   "source": [
    " From the above table we conclude that  MultinomialNB gives the better accuracy"
   ]
  },
  {
   "cell_type": "code",
   "execution_count": null,
   "metadata": {},
   "outputs": [],
   "source": []
  }
 ],
 "metadata": {
  "kernelspec": {
   "display_name": "Python 3",
   "language": "python",
   "name": "python3"
  },
  "language_info": {
   "codemirror_mode": {
    "name": "ipython",
    "version": 3
   },
   "file_extension": ".py",
   "mimetype": "text/x-python",
   "name": "python",
   "nbconvert_exporter": "python",
   "pygments_lexer": "ipython3",
   "version": "3.6.4"
  }
 },
 "nbformat": 4,
 "nbformat_minor": 2
}
